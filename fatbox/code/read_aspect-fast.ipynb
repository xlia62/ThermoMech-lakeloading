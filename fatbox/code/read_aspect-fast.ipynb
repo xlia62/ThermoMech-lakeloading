{
 "cells": [
  {
   "cell_type": "code",
   "execution_count": 1,
   "id": "e72a51e3",
   "metadata": {},
   "outputs": [],
   "source": [
    "#%% import modules \n",
    "import numpy as np\n",
    "import pandas as pd\n",
    "import matplotlib.pyplot as plt\n",
    "import h5py \n",
    "plt.rcParams.update({'font.size': 18})"
   ]
  },
  {
   "cell_type": "code",
   "execution_count": 3,
   "id": "dce6e99f",
   "metadata": {},
   "outputs": [
    {
     "name": "stdout",
     "output_type": "stream",
     "text": [
      "output variables: <KeysViewHDF5 ['T', 'crust_lower', 'crust_upper', 'current_cohesions', 'current_friction_angles', 'density', 'depth', 'heat_flux_map', 'mantle_lithosphere', 'maximum_horizontal_compressive_stress', 'noninitial_plastic_strain', 'p', 'plastic_strain', 'plastic_yielding', 'principal_stress_1', 'principal_stress_2', 'principal_stress_direction_1', 'principal_stress_direction_2', 'sediment_1', 'sediment_2', 'sediment_age', 'strain_rate', 'velocity', 'vertical_heat_flux', 'viscosity', 'viscous_strain']>\n"
     ]
    }
   ],
   "source": [
    "step = 1\n",
    "path = '/home/lxue07/Documents/aspect/aspect_fast/aspect/test_fast/test_from_extension_0.6/solution\\\n",
    "/solution-000'+str(step).zfill(2)+ '.h5'\n",
    "f = h5py.File(path, 'r')\n",
    "print ('output variables:', f.keys())"
   ]
  },
  {
   "cell_type": "code",
   "execution_count": null,
   "id": "23cb2db5",
   "metadata": {},
   "outputs": [],
   "source": []
  }
 ],
 "metadata": {
  "kernelspec": {
   "display_name": "Python 3",
   "language": "python",
   "name": "python3"
  },
  "language_info": {
   "codemirror_mode": {
    "name": "ipython",
    "version": 3
   },
   "file_extension": ".py",
   "mimetype": "text/x-python",
   "name": "python",
   "nbconvert_exporter": "python",
   "pygments_lexer": "ipython3",
   "version": "3.8.3"
  }
 },
 "nbformat": 4,
 "nbformat_minor": 5
}
