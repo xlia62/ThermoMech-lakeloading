{
 "cells": [
  {
   "cell_type": "code",
   "execution_count": 10,
   "id": "6d730c55",
   "metadata": {},
   "outputs": [],
   "source": [
    "import matplotlib.pyplot as plt\n",
    "import numpy as np\n",
    "plt.rcParams.update({'font.size': 22})\n",
    "import moviepy.video.io.ImageSequenceClip\n",
    "from moviepy.editor import *"
   ]
  },
  {
   "cell_type": "code",
   "execution_count": 13,
   "id": "d6d6d489",
   "metadata": {},
   "outputs": [],
   "source": [
    "fps=5\n",
    "image_files  =[]\n",
    "for ti in range(135, 204):\n",
    "    name = 'Lake_drop_restart_71_1000m_frame{}_P_log_5e-16_1e-13_type1_data_2.png'.format(ti)\n",
    "    image_files.append('/home/lxue07/Documents/ThermoMech2d/ForLiang_ThermoMech2D/\\\n",
    "ForLiang_ThermoMech2D/output/AfricaModels2022/Figure/extraction/'+name)       \n",
    "# clip = moviepy.video.io.ImageSequenceClip.ImageSequenceClip(image_files, fps=fps, method='compose')\n",
    "# clip.write_videofile('../../Figure/restart_71_ft_strain_rate.mp4')\n",
    "\n",
    "\n"
   ]
  },
  {
   "cell_type": "code",
   "execution_count": 14,
   "id": "5b808d89",
   "metadata": {},
   "outputs": [],
   "source": [
    "frames = [ImageClip(f, duration = 1) for f in image_files]\n",
    "# You should notice: duration = 4 means each image is 4 seconds. \n",
    "# There are 4 images in this example, the total time of the final video is 4*4 = 16 seconds."
   ]
  },
  {
   "cell_type": "code",
   "execution_count": 17,
   "id": "728e5b10",
   "metadata": {},
   "outputs": [
    {
     "name": "stdout",
     "output_type": "stream",
     "text": [
      "Moviepy - Building video ../../Figure/restart_71_ft_strain_rate.mp4.\n",
      "Moviepy - Writing video ../../Figure/restart_71_ft_strain_rate.mp4\n",
      "\n"
     ]
    },
    {
     "name": "stderr",
     "output_type": "stream",
     "text": [
      "                                                              \r"
     ]
    },
    {
     "name": "stdout",
     "output_type": "stream",
     "text": [
      "Moviepy - Done !\n",
      "Moviepy - video ready ../../Figure/restart_71_ft_strain_rate.mp4\n"
     ]
    }
   ],
   "source": [
    "clip = concatenate_videoclips(frames, method='compose')\n",
    "clip.write_videofile('../../Figure/restart_71_ft_strain_rate.mp4', fps = 24)"
   ]
  },
  {
   "cell_type": "code",
   "execution_count": null,
   "id": "5956837b",
   "metadata": {},
   "outputs": [],
   "source": []
  }
 ],
 "metadata": {
  "kernelspec": {
   "display_name": "Python 3",
   "language": "python",
   "name": "python3"
  },
  "language_info": {
   "codemirror_mode": {
    "name": "ipython",
    "version": 3
   },
   "file_extension": ".py",
   "mimetype": "text/x-python",
   "name": "python",
   "nbconvert_exporter": "python",
   "pygments_lexer": "ipython3",
   "version": "3.8.3"
  }
 },
 "nbformat": 4,
 "nbformat_minor": 5
}
